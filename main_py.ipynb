{
  "nbformat": 4,
  "nbformat_minor": 0,
  "metadata": {
    "colab": {
      "provenance": [],
      "authorship_tag": "ABX9TyPIAGBuAnWMo2BmiKNvVsTY",
      "include_colab_link": true
    },
    "kernelspec": {
      "name": "python3",
      "display_name": "Python 3"
    },
    "language_info": {
      "name": "python"
    }
  },
  "cells": [
    {
      "cell_type": "markdown",
      "metadata": {
        "id": "view-in-github",
        "colab_type": "text"
      },
      "source": [
        "<a href=\"https://colab.research.google.com/github/apb2668/nata2/blob/main/main_py.ipynb\" target=\"_parent\"><img src=\"https://colab.research.google.com/assets/colab-badge.svg\" alt=\"Open In Colab\"/></a>"
      ]
    },
    {
      "cell_type": "markdown",
      "source": [
        "# Новый раздел"
      ],
      "metadata": {
        "id": "TUO5JNBzmAai"
      }
    },
    {
      "cell_type": "code",
      "source": [
        "\n",
        "import sqlite3\n",
        "import pandas as pd\n",
        "import os\n",
        "\n",
        "# Путь к файлам с данными\n",
        "sample_data = \"data\"\n",
        "\n",
        "# Название базы данных\n",
        "db_name = \"historical_data.db\"\n",
        "\n",
        "# Создание базы данных, если её ещё нет\n",
        "if not os.path.exists(db_name):\n",
        "    conn = sqlite3.connect(db_name)\n",
        "    conn.close()\n",
        "\n",
        "# Соединение с базой данных\n",
        "conn = sqlite3.connect(db_name)\n",
        "\n",
        "# Получение списка файлов с данными\n",
        "files = os.listdir(sample_data)\n",
        "\n",
        "# Загрузка данных из каждого файла и добавление их в базу данных\n",
        "for file in files:\n",
        "    if file.endswith(\".xlsx\"):\n",
        "        # Чтение данных из файла\n",
        "        try:\n",
        "            df = pd.read_excel(os.path.join(sample_data, file))\n",
        "        except Exception as e:\n",
        "            print(f\"Ошибка чтения файла {file}: {e}\")\n",
        "            continue\n",
        "\n",
        "        df['open']   = pd.to_numeric(df['open'], errors=\"coerce\")\n",
        "        df['high']   = pd.to_numeric(df['high'], errors=\"coerce\")\n",
        "        df['low']    = pd.to_numeric(df['low'], errors=\"coerce\")\n",
        "        df['close']  = pd.to_numeric(df['close'], errors=\"coerce\")\n",
        "        df['volume'] = pd.to_numeric(df['volume'], errors=\"coerce\")\n",
        "\n",
        "\n",
        "        # Очистка данных от ошибок и пустых значений\n",
        "        df = df.dropna(how=\"any\")\n",
        "\n",
        "        df.to_sql('historical_data', conn, if_exists='append', index=False)\n",
        "\n",
        "# Сохранение изменений в базе данных\n",
        "conn.commit()\n",
        "\n",
        "# Закрытие соединения с базой данных\n",
        "conn.close()"
      ],
      "metadata": {
        "id": "z5Ea5LjYw3vz"
      },
      "execution_count": 34,
      "outputs": []
    }
  ]
}